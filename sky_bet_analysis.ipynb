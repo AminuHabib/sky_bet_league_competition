{
  "nbformat": 4,
  "nbformat_minor": 0,
  "metadata": {
    "colab": {
      "name": "sky_bet_analysis.ipynb",
      "provenance": [],
      "collapsed_sections": []
    },
    "kernelspec": {
      "name": "python3",
      "display_name": "Python 3"
    },
    "language_info": {
      "name": "python"
    }
  },
  "cells": [
    {
      "cell_type": "markdown",
      "metadata": {
        "id": "appSOvy6LT6t"
      },
      "source": [
        "Connecting Drive to Colab\n",
        "Mounting Google Drive"
      ]
    },
    {
      "cell_type": "code",
      "metadata": {
        "colab": {
          "base_uri": "https://localhost:8080/"
        },
        "id": "zBBWFrUo-Jgy",
        "outputId": "a211ac19-00c4-46d7-fd13-abd81d66afde"
      },
      "source": [
        "from google.colab import drive\n",
        "drive.mount('/content/drive')"
      ],
      "execution_count": null,
      "outputs": [
        {
          "output_type": "stream",
          "name": "stdout",
          "text": [
            "Mounted at /content/drive\n"
          ]
        }
      ]
    },
    {
      "cell_type": "markdown",
      "metadata": {
        "id": "0IPqDN9pMKd_"
      },
      "source": [
        "Setting up PySpark in Colab"
      ]
    },
    {
      "cell_type": "code",
      "metadata": {
        "id": "FKVI8Ll6Lr0O"
      },
      "source": [
        "!apt-get install openjdk-8-jdk-headless -qq > /dev/null"
      ],
      "execution_count": 116,
      "outputs": []
    },
    {
      "cell_type": "markdown",
      "metadata": {
        "id": "bRFKU_MIMNWp"
      },
      "source": [
        "Installing Apache Spark 3.1.2 with Hadoop 3.2 from the link"
      ]
    },
    {
      "cell_type": "code",
      "metadata": {
        "id": "2eKzYKbXLuQY"
      },
      "source": [
        "!wget -q https://downloads.apache.org/spark/spark-3.1.2/spark-3.1.2-bin-hadoop3.2.tgz"
      ],
      "execution_count": 120,
      "outputs": []
    },
    {
      "cell_type": "markdown",
      "metadata": {
        "id": "2kIJLwTqMcd1"
      },
      "source": [
        "To unzip that folder"
      ]
    },
    {
      "cell_type": "code",
      "metadata": {
        "id": "RGFtbzsGMW5X"
      },
      "source": [
        "!tar xf spark-3.1.2-bin-hadoop3.2.tgz"
      ],
      "execution_count": 121,
      "outputs": []
    },
    {
      "cell_type": "markdown",
      "metadata": {
        "id": "ZvFWmK82MpYN"
      },
      "source": [
        "Install findspark library"
      ]
    },
    {
      "cell_type": "code",
      "metadata": {
        "id": "tJ3_3I9iMlR2"
      },
      "source": [
        "!pip install -q findspark"
      ],
      "execution_count": 122,
      "outputs": []
    },
    {
      "cell_type": "markdown",
      "metadata": {
        "id": "y5sjyuXdMwng"
      },
      "source": [
        "To set the environment path"
      ]
    },
    {
      "cell_type": "code",
      "metadata": {
        "id": "cvwXTl0Q9oMw"
      },
      "source": [
        "import os\n",
        "os.environ[\"JAVA_HOME\"] = \"/usr/lib/jvm/java-8-openjdk-amd64\"\n",
        "os.environ[\"SPARK_HOME\"] = \"/content/spark-3.1.2-bin-hadoop3.2\""
      ],
      "execution_count": 123,
      "outputs": []
    },
    {
      "cell_type": "markdown",
      "metadata": {
        "id": "_5m85S3qM1pK"
      },
      "source": [
        "To locate Spark in the system"
      ]
    },
    {
      "cell_type": "code",
      "metadata": {
        "id": "kyFLn0Nx9uIw"
      },
      "source": [
        "import findspark\n",
        "findspark.init()"
      ],
      "execution_count": 124,
      "outputs": []
    },
    {
      "cell_type": "markdown",
      "metadata": {
        "id": "SZKldrUqM6TZ"
      },
      "source": [
        "To know the location where Spark is installed"
      ]
    },
    {
      "cell_type": "code",
      "metadata": {
        "colab": {
          "base_uri": "https://localhost:8080/",
          "height": 35
        },
        "id": "zz7xLrJS9wxq",
        "outputId": "7dd539f0-ed8e-429c-c411-92399fe9adff"
      },
      "source": [
        "findspark.find()"
      ],
      "execution_count": 125,
      "outputs": [
        {
          "output_type": "execute_result",
          "data": {
            "application/vnd.google.colaboratory.intrinsic+json": {
              "type": "string"
            },
            "text/plain": [
              "'/content/spark-3.1.2-bin-hadoop3.2'"
            ]
          },
          "metadata": {},
          "execution_count": 125
        }
      ]
    },
    {
      "cell_type": "markdown",
      "metadata": {
        "id": "ZHLY0GBLNC7h"
      },
      "source": [
        "To view the Spark UI"
      ]
    },
    {
      "cell_type": "code",
      "metadata": {
        "colab": {
          "base_uri": "https://localhost:8080/"
        },
        "id": "mHicE7zfNDxd",
        "outputId": "44d63b40-540a-4e87-d6b1-ca0ae36e008a"
      },
      "source": [
        "!wget https://bin.equinox.io/c/4VmDzA7iaHb/ngrok-stable-linux-amd64.zip\n",
        "!unzip ngrok-stable-linux-amd64.zip\n",
        "get_ipython().system_raw('./ngrok http 4050 &')\n",
        "!curl -s http://localhost:4040/api/tunnels"
      ],
      "execution_count": null,
      "outputs": [
        {
          "output_type": "stream",
          "name": "stdout",
          "text": [
            "--2021-11-14 11:30:02--  https://bin.equinox.io/c/4VmDzA7iaHb/ngrok-stable-linux-amd64.zip\n",
            "Resolving bin.equinox.io (bin.equinox.io)... 54.237.133.81, 52.202.168.65, 18.205.222.128, ...\n",
            "Connecting to bin.equinox.io (bin.equinox.io)|54.237.133.81|:443... connected.\n",
            "HTTP request sent, awaiting response... 200 OK\n",
            "Length: 13832437 (13M) [application/octet-stream]\n",
            "Saving to: ‘ngrok-stable-linux-amd64.zip.3’\n",
            "\n",
            "ngrok-stable-linux- 100%[===================>]  13.19M  16.2MB/s    in 0.8s    \n",
            "\n",
            "2021-11-14 11:30:03 (16.2 MB/s) - ‘ngrok-stable-linux-amd64.zip.3’ saved [13832437/13832437]\n",
            "\n",
            "Archive:  ngrok-stable-linux-amd64.zip\n",
            "replace ngrok? [y]es, [n]o, [A]ll, [N]one, [r]ename: n\n",
            "{\"tunnels\":[{\"name\":\"command_line\",\"uri\":\"/api/tunnels/command_line\",\"public_url\":\"https://add8-35-230-10-11.ngrok.io\",\"proto\":\"https\",\"config\":{\"addr\":\"http://localhost:4050\",\"inspect\":true},\"metrics\":{\"conns\":{\"count\":0,\"gauge\":0,\"rate1\":0,\"rate5\":0,\"rate15\":0,\"p50\":0,\"p90\":0,\"p95\":0,\"p99\":0},\"http\":{\"count\":0,\"rate1\":0,\"rate5\":0,\"rate15\":0,\"p50\":0,\"p90\":0,\"p95\":0,\"p99\":0}}},{\"name\":\"command_line (http)\",\"uri\":\"/api/tunnels/command_line%20%28http%29\",\"public_url\":\"http://add8-35-230-10-11.ngrok.io\",\"proto\":\"http\",\"config\":{\"addr\":\"http://localhost:4050\",\"inspect\":true},\"metrics\":{\"conns\":{\"count\":0,\"gauge\":0,\"rate1\":0,\"rate5\":0,\"rate15\":0,\"p50\":0,\"p90\":0,\"p95\":0,\"p99\":0},\"http\":{\"count\":0,\"rate1\":0,\"rate5\":0,\"rate15\":0,\"p50\":0,\"p90\":0,\"p95\":0,\"p99\":0}}}],\"uri\":\"/api/tunnels\"}\n"
          ]
        }
      ]
    },
    {
      "cell_type": "code",
      "metadata": {
        "colab": {
          "base_uri": "https://localhost:8080/"
        },
        "id": "7yBxIMzAAW_x",
        "outputId": "b4f821ee-1976-4b59-d26f-748d8f002763"
      },
      "source": [
        "from pyspark.sql import SparkSession\n",
        "\n",
        "spark = SparkSession.builder\\\n",
        "        .master(\"local[*]\")\\\n",
        "        .appName(\"League Analysis\")\\\n",
        "        .config('spark.ui.port', '4050')\\\n",
        "        .getOrCreate()\n",
        "print(\"A Sky Bet League Competition Analysis\")"
      ],
      "execution_count": 126,
      "outputs": [
        {
          "output_type": "stream",
          "name": "stdout",
          "text": [
            "A Sky Bet League Competition Analysis\n"
          ]
        }
      ]
    },
    {
      "cell_type": "markdown",
      "metadata": {
        "id": "OGtWSCmROBwz"
      },
      "source": [
        "Read Sky_competition_clean.txt csv file into PySpark"
      ]
    },
    {
      "cell_type": "code",
      "metadata": {
        "id": "8pNOasN-AiFo"
      },
      "source": [
        "match_data = spark.read.csv(\"/content/Sky_competition_clean.txt\", header=True, inferSchema=True)"
      ],
      "execution_count": 127,
      "outputs": []
    },
    {
      "cell_type": "markdown",
      "metadata": {
        "id": "fuNgO-f6Ogd_"
      },
      "source": [
        "Understanding the Data"
      ]
    },
    {
      "cell_type": "code",
      "metadata": {
        "colab": {
          "base_uri": "https://localhost:8080/"
        },
        "id": "cVTl51OPAxwz",
        "outputId": "05f41ca3-defe-4375-d1b3-70709d1b6714"
      },
      "source": [
        "match_data.printSchema()"
      ],
      "execution_count": 128,
      "outputs": [
        {
          "output_type": "stream",
          "name": "stdout",
          "text": [
            "root\n",
            " |-- away_team_id: string (nullable = true)\n",
            " |-- away_team_name: string (nullable = true)\n",
            " |-- away_team_score: integer (nullable = true)\n",
            " |-- home_team_id: string (nullable = true)\n",
            " |-- home_team_name: string (nullable = true)\n",
            " |-- home_team_score: integer (nullable = true)\n",
            " |-- match_id: string (nullable = true)\n",
            " |-- match_period: string (nullable = true)\n",
            " |-- match_competition: string (nullable = true)\n",
            " |-- match_round: integer (nullable = true)\n",
            " |-- match_season: string (nullable = true)\n",
            " |-- match_seasonId: integer (nullable = true)\n",
            " |-- match_skyId: integer (nullable = true)\n",
            " |-- match_status: string (nullable = true)\n",
            " |-- match_type: string (nullable = true)\n",
            " |-- match_venue_id: integer (nullable = true)\n",
            " |-- match_venue_location: string (nullable = true)\n",
            " |-- match_venue_name: string (nullable = true)\n",
            " |-- _c18: string (nullable = true)\n",
            "\n"
          ]
        }
      ]
    },
    {
      "cell_type": "markdown",
      "metadata": {
        "id": "r6VRjRxWOxZe"
      },
      "source": [
        "To see the physical plan "
      ]
    },
    {
      "cell_type": "code",
      "metadata": {
        "colab": {
          "base_uri": "https://localhost:8080/"
        },
        "id": "0MxEdPsHOqZ2",
        "outputId": "570ab3ca-504a-4afa-b74c-2476bd37bbe0"
      },
      "source": [
        "match_data.explain()"
      ],
      "execution_count": 129,
      "outputs": [
        {
          "output_type": "stream",
          "name": "stdout",
          "text": [
            "== Physical Plan ==\n",
            "FileScan csv [away_team_id#3574,away_team_name#3575,away_team_score#3576,home_team_id#3577,home_team_name#3578,home_team_score#3579,match_id#3580,match_period#3581,match_competition#3582,match_round#3583,match_season#3584,match_seasonId#3585,match_skyId#3586,match_status#3587,match_type#3588,match_venue_id#3589,match_venue_location#3590,match_venue_name#3591,_c18#3592] Batched: false, DataFilters: [], Format: CSV, Location: InMemoryFileIndex[file:/content/Sky_competition_clean.txt], PartitionFilters: [], PushedFilters: [], ReadSchema: struct<away_team_id:string,away_team_name:string,away_team_score:int,home_team_id:string,home_tea...\n",
            "\n",
            "\n"
          ]
        }
      ]
    },
    {
      "cell_type": "markdown",
      "metadata": {
        "id": "4GzwX3frPCKi"
      },
      "source": [
        "Show top 5 rows"
      ]
    },
    {
      "cell_type": "code",
      "metadata": {
        "colab": {
          "base_uri": "https://localhost:8080/"
        },
        "id": "t9fgVgWK5qaI",
        "outputId": "409e974d-ff75-4217-b860-0cc8964d5b29"
      },
      "source": [
        "match_data.show(5)"
      ],
      "execution_count": 130,
      "outputs": [
        {
          "output_type": "stream",
          "name": "stdout",
          "text": [
            "+------------+---------------+---------------+------------+----------------+---------------+--------------------+------------+------------------+-----------+---------------+--------------+-----------+------------+----------+--------------+--------------------+--------------------+----+\n",
            "|away_team_id| away_team_name|away_team_score|home_team_id|  home_team_name|home_team_score|            match_id|match_period| match_competition|match_round|   match_season|match_seasonId|match_skyId|match_status|match_type|match_venue_id|match_venue_location|    match_venue_name|_c18|\n",
            "+------------+---------------+---------------+------------+----------------+---------------+--------------------+------------+------------------+-----------+---------------+--------------+-----------+------------+----------+--------------+--------------------+--------------------+----+\n",
            "|         t25|  Middlesbrough|              0|         t57|         Watford|              1|7af1fb87-75e5-322...|    FullTime|SkyBetChampionship|          1|Season2020/2021|          2020|     429715|      result|   Regular|            73|             Watford|        VicarageRoad|null|\n",
            "|         t94|      Brentford|              0|         t41|  BirminghamCity|              1|a73e9fb4-d61e-34f...|    FullTime|SkyBetChampionship|          1|Season2020/2021|          2020|     429706|      result|   Regular|            57|          Birmingham|St.Andrew'sTrilli...|null|\n",
            "|         t72|RotherhamUnited|              1|        t112|WycombeWanderers|              0|fd69d98c-692e-3e3...|    FullTime|SkyBetChampionship|          1|Season2020/2021|          2020|     429716|      result|   Regular|             3|             Wycombe|           AdamsPark|null|\n",
            "|        t110|      StokeCity|              0|        t103|        Millwall|              0|4af84d36-cfed-3eb...|    FullTime|SkyBetChampionship|          1|Season2020/2021|          2020|     429712|      result|   Regular|           101|              London|              TheDen|null|\n",
            "|          t5|BlackburnRovers|              2|         t91|     Bournemouth|              3|bcfb84b7-b264-313...|    FullTime|SkyBetChampionship|          1|Season2020/2021|          2020|     429707|      result|   Regular|          2734|         Bournemouth|     VitalityStadium|null|\n",
            "+------------+---------------+---------------+------------+----------------+---------------+--------------------+------------+------------------+-----------+---------------+--------------+-----------+------------+----------+--------------+--------------------+--------------------+----+\n",
            "only showing top 5 rows\n",
            "\n"
          ]
        }
      ]
    },
    {
      "cell_type": "markdown",
      "metadata": {
        "id": "37UtJ0ZvP0Il"
      },
      "source": [
        "Drop the last column ('_c18')"
      ]
    },
    {
      "cell_type": "code",
      "metadata": {
        "id": "F-N5JtjdPmoU"
      },
      "source": [
        "#match_data_clean = match_data.drop('_c18').show(10)"
      ],
      "execution_count": 206,
      "outputs": []
    },
    {
      "cell_type": "markdown",
      "metadata": {
        "id": "Ngz4Pz4aJvr2"
      },
      "source": [
        "Add new column (team_name)"
      ]
    },
    {
      "cell_type": "code",
      "metadata": {
        "id": "CKGYsGA4AF5j"
      },
      "source": [
        "match_data = match_data.withColumn(\"team_name\", match_data.away_team_name)"
      ],
      "execution_count": 137,
      "outputs": []
    },
    {
      "cell_type": "code",
      "metadata": {
        "colab": {
          "base_uri": "https://localhost:8080/"
        },
        "id": "V_Uafct9A7q5",
        "outputId": "1635399f-1011-4651-f469-b6014798b78f"
      },
      "source": [
        "match_data.show(5)"
      ],
      "execution_count": 138,
      "outputs": [
        {
          "output_type": "stream",
          "name": "stdout",
          "text": [
            "+------------+---------------+---------------+------------+----------------+---------------+--------------------+------------+------------------+-----------+---------------+--------------+-----------+------------+----------+--------------+--------------------+--------------------+----+---------------+\n",
            "|away_team_id| away_team_name|away_team_score|home_team_id|  home_team_name|home_team_score|            match_id|match_period| match_competition|match_round|   match_season|match_seasonId|match_skyId|match_status|match_type|match_venue_id|match_venue_location|    match_venue_name|_c18|      team_name|\n",
            "+------------+---------------+---------------+------------+----------------+---------------+--------------------+------------+------------------+-----------+---------------+--------------+-----------+------------+----------+--------------+--------------------+--------------------+----+---------------+\n",
            "|         t25|  Middlesbrough|              0|         t57|         Watford|              1|7af1fb87-75e5-322...|    FullTime|SkyBetChampionship|          1|Season2020/2021|          2020|     429715|      result|   Regular|            73|             Watford|        VicarageRoad|null|  Middlesbrough|\n",
            "|         t94|      Brentford|              0|         t41|  BirminghamCity|              1|a73e9fb4-d61e-34f...|    FullTime|SkyBetChampionship|          1|Season2020/2021|          2020|     429706|      result|   Regular|            57|          Birmingham|St.Andrew'sTrilli...|null|      Brentford|\n",
            "|         t72|RotherhamUnited|              1|        t112|WycombeWanderers|              0|fd69d98c-692e-3e3...|    FullTime|SkyBetChampionship|          1|Season2020/2021|          2020|     429716|      result|   Regular|             3|             Wycombe|           AdamsPark|null|RotherhamUnited|\n",
            "|        t110|      StokeCity|              0|        t103|        Millwall|              0|4af84d36-cfed-3eb...|    FullTime|SkyBetChampionship|          1|Season2020/2021|          2020|     429712|      result|   Regular|           101|              London|              TheDen|null|      StokeCity|\n",
            "|          t5|BlackburnRovers|              2|         t91|     Bournemouth|              3|bcfb84b7-b264-313...|    FullTime|SkyBetChampionship|          1|Season2020/2021|          2020|     429707|      result|   Regular|          2734|         Bournemouth|     VitalityStadium|null|BlackburnRovers|\n",
            "+------------+---------------+---------------+------------+----------------+---------------+--------------------+------------+------------------+-----------+---------------+--------------+-----------+------------+----------+--------------+--------------------+--------------------+----+---------------+\n",
            "only showing top 5 rows\n",
            "\n"
          ]
        }
      ]
    },
    {
      "cell_type": "markdown",
      "metadata": {
        "id": "w9LCao5nJ6lG"
      },
      "source": [
        "Add new column (total_match_score)"
      ]
    },
    {
      "cell_type": "code",
      "metadata": {
        "id": "V476WbnKBwum"
      },
      "source": [
        "match_data = match_data.withColumn(\"total_match_score\", match_data.away_team_score + match_data.home_team_score)"
      ],
      "execution_count": 141,
      "outputs": []
    },
    {
      "cell_type": "code",
      "metadata": {
        "colab": {
          "base_uri": "https://localhost:8080/"
        },
        "id": "OuShlGSKB_ie",
        "outputId": "07d3e8ef-2f25-4ec8-d977-430fa0704c48"
      },
      "source": [
        "match_data.show(5)"
      ],
      "execution_count": 142,
      "outputs": [
        {
          "output_type": "stream",
          "name": "stdout",
          "text": [
            "+------------+---------------+---------------+------------+----------------+---------------+--------------------+------------+------------------+-----------+---------------+--------------+-----------+------------+----------+--------------+--------------------+--------------------+----+---------------+-----------------+\n",
            "|away_team_id| away_team_name|away_team_score|home_team_id|  home_team_name|home_team_score|            match_id|match_period| match_competition|match_round|   match_season|match_seasonId|match_skyId|match_status|match_type|match_venue_id|match_venue_location|    match_venue_name|_c18|      team_name|total_match_score|\n",
            "+------------+---------------+---------------+------------+----------------+---------------+--------------------+------------+------------------+-----------+---------------+--------------+-----------+------------+----------+--------------+--------------------+--------------------+----+---------------+-----------------+\n",
            "|         t25|  Middlesbrough|              0|         t57|         Watford|              1|7af1fb87-75e5-322...|    FullTime|SkyBetChampionship|          1|Season2020/2021|          2020|     429715|      result|   Regular|            73|             Watford|        VicarageRoad|null|  Middlesbrough|                1|\n",
            "|         t94|      Brentford|              0|         t41|  BirminghamCity|              1|a73e9fb4-d61e-34f...|    FullTime|SkyBetChampionship|          1|Season2020/2021|          2020|     429706|      result|   Regular|            57|          Birmingham|St.Andrew'sTrilli...|null|      Brentford|                1|\n",
            "|         t72|RotherhamUnited|              1|        t112|WycombeWanderers|              0|fd69d98c-692e-3e3...|    FullTime|SkyBetChampionship|          1|Season2020/2021|          2020|     429716|      result|   Regular|             3|             Wycombe|           AdamsPark|null|RotherhamUnited|                1|\n",
            "|        t110|      StokeCity|              0|        t103|        Millwall|              0|4af84d36-cfed-3eb...|    FullTime|SkyBetChampionship|          1|Season2020/2021|          2020|     429712|      result|   Regular|           101|              London|              TheDen|null|      StokeCity|                0|\n",
            "|          t5|BlackburnRovers|              2|         t91|     Bournemouth|              3|bcfb84b7-b264-313...|    FullTime|SkyBetChampionship|          1|Season2020/2021|          2020|     429707|      result|   Regular|          2734|         Bournemouth|     VitalityStadium|null|BlackburnRovers|                5|\n",
            "+------------+---------------+---------------+------------+----------------+---------------+--------------------+------------+------------------+-----------+---------------+--------------+-----------+------------+----------+--------------+--------------------+--------------------+----+---------------+-----------------+\n",
            "only showing top 5 rows\n",
            "\n"
          ]
        }
      ]
    },
    {
      "cell_type": "markdown",
      "metadata": {
        "id": "AfrsXICkKBfv"
      },
      "source": [
        "Create a view"
      ]
    },
    {
      "cell_type": "code",
      "metadata": {
        "id": "BNCxCTVD5gYz"
      },
      "source": [
        "match_data.createOrReplaceTempView(\"match_data\")"
      ],
      "execution_count": 149,
      "outputs": []
    },
    {
      "cell_type": "markdown",
      "metadata": {
        "id": "VDcnboTOWJUl"
      },
      "source": [
        "Total number of teams in the league"
      ]
    },
    {
      "cell_type": "code",
      "metadata": {
        "colab": {
          "base_uri": "https://localhost:8080/"
        },
        "id": "BzkYkwbnWIvx",
        "outputId": "ee9ea3da-be0d-4948-a783-dd441812f301"
      },
      "source": [
        "spark.sql(\"SELECT COUNT(DISTINCT(team_name)) AS total_number_of_teams FROM match_data\").show()"
      ],
      "execution_count": 148,
      "outputs": [
        {
          "output_type": "stream",
          "name": "stdout",
          "text": [
            "+---------------------+\n",
            "|total_number_of_teams|\n",
            "+---------------------+\n",
            "|                   24|\n",
            "+---------------------+\n",
            "\n"
          ]
        }
      ]
    },
    {
      "cell_type": "markdown",
      "metadata": {
        "id": "dlpBUNTgJhXZ"
      },
      "source": [
        "Team with the highest average number of goals per match"
      ]
    },
    {
      "cell_type": "code",
      "metadata": {
        "colab": {
          "base_uri": "https://localhost:8080/"
        },
        "id": "Cd6Cv8zX94ME",
        "outputId": "c3441c19-b009-401e-bcb4-a45a3ba02e75"
      },
      "source": [
        "spark.sql(\"SELECT home_team_id, home_team_name, \\\n",
        "            AVG(home_team_score) as average_home_team_score, away_team_id, away_team_name, \\\n",
        "            AVG(away_team_score) as average_away_team_score FROM match_data \\\n",
        "            GROUP BY home_team_id, home_team_name, away_team_id, away_team_name \\\n",
        "            ORDER BY average_home_team_score DESC\").show()"
      ],
      "execution_count": 173,
      "outputs": [
        {
          "output_type": "stream",
          "name": "stdout",
          "text": [
            "+------------+------------------+-----------------------+------------+------------------+-----------------------+\n",
            "|home_team_id|    home_team_name|average_home_team_score|away_team_id|    away_team_name|average_away_team_score|\n",
            "+------------+------------------+-----------------------+------------+------------------+-----------------------+\n",
            "|         t45|       NorwichCity|                    7.0|         t38|  HuddersfieldTown|                    0.0|\n",
            "|         t94|         Brentford|                    7.0|        t112|  WycombeWanderers|                    2.0|\n",
            "|         t57|           Watford|                    6.0|        t113|       BristolCity|                    0.0|\n",
            "|          t9|      CoventryCity|                    6.0|        t103|          Millwall|                    1.0|\n",
            "|         t19|SheffieldWednesday|                    5.0|         t97|       CardiffCity|                    0.0|\n",
            "|          t5|   BlackburnRovers|                    5.0|        t112|  WycombeWanderers|                    0.0|\n",
            "|          t5|   BlackburnRovers|                    5.0|         t38|  HuddersfieldTown|                    2.0|\n",
            "|         t91|       Bournemouth|                    5.0|         t38|  HuddersfieldTown|                    0.0|\n",
            "|          t5|   BlackburnRovers|                    5.0|         t41|    BirminghamCity|                    2.0|\n",
            "|         t97|       CardiffCity|                    4.0|         t24|       DerbyCounty|                    0.0|\n",
            "|         t45|       NorwichCity|                    4.0|        t108|           Reading|                    1.0|\n",
            "|        t110|         StokeCity|                    4.0|         t38|  HuddersfieldTown|                    3.0|\n",
            "|         t91|       Bournemouth|                    4.0|        t108|           Reading|                    2.0|\n",
            "|        t103|          Millwall|                    4.0|         t19|SheffieldWednesday|                    1.0|\n",
            "|         t38|  HuddersfieldTown|                    4.0|         t80|       SwanseaCity|                    1.0|\n",
            "|         t91|       Bournemouth|                    4.0|          t9|      CoventryCity|                    1.0|\n",
            "|         t97|       CardiffCity|                    4.0|        t107|   PrestonNorthEnd|                    0.0|\n",
            "|         t97|       CardiffCity|                    4.0|        t102|         LutonTown|                    0.0|\n",
            "|         t52| QueensParkRangers|                    4.0|         t19|SheffieldWednesday|                    1.0|\n",
            "|        t103|          Millwall|                    4.0|        t113|       BristolCity|                    1.0|\n",
            "+------------+------------------+-----------------------+------------+------------------+-----------------------+\n",
            "only showing top 20 rows\n",
            "\n"
          ]
        }
      ]
    },
    {
      "cell_type": "markdown",
      "metadata": {
        "id": "JVron1DVMidV"
      },
      "source": [
        "Most common match score"
      ]
    },
    {
      "cell_type": "code",
      "metadata": {
        "colab": {
          "base_uri": "https://localhost:8080/"
        },
        "id": "drFqHOKJjOxO",
        "outputId": "93852b32-4b66-4228-da7a-cea62a10e282"
      },
      "source": [
        "spark.sql(\"SELECT away_team_score, \\\n",
        "            COUNT(away_team_score) AS away_team_value_occurrence, \\\n",
        "            home_team_score, \\\n",
        "            COUNT(away_team_score) AS home_team_value_occurrence \\\n",
        "            FROM match_data \\\n",
        "            GROUP BY away_team_score, home_team_score \\\n",
        "            ORDER BY away_team_value_occurrence DESC, home_team_value_occurrence DESC \\\n",
        "            LIMIT 1\").show()"
      ],
      "execution_count": 215,
      "outputs": [
        {
          "output_type": "stream",
          "name": "stdout",
          "text": [
            "+---------------+--------------------------+---------------+--------------------------+\n",
            "|away_team_score|away_team_value_occurrence|home_team_score|home_team_value_occurrence|\n",
            "+---------------+--------------------------+---------------+--------------------------+\n",
            "|              1|                        72|              1|                        72|\n",
            "+---------------+--------------------------+---------------+--------------------------+\n",
            "\n"
          ]
        }
      ]
    },
    {
      "cell_type": "markdown",
      "metadata": {
        "id": "1-oEiC-bJZeN"
      },
      "source": [
        "Avenue with the highest number of goals"
      ]
    },
    {
      "cell_type": "code",
      "metadata": {
        "colab": {
          "base_uri": "https://localhost:8080/"
        },
        "id": "NmE3R0jICLc2",
        "outputId": "07fcc379-ac96-40ba-ad00-7f2295746b2d"
      },
      "source": [
        "spark.sql(\"SELECT match_venue_id, match_venue_name, \\\n",
        "            COUNT(total_match_score) as highest_venue_score FROM match_data \\\n",
        "            GROUP BY match_venue_id, match_venue_name ORDER BY highest_venue_score DESC\").show()"
      ],
      "execution_count": 216,
      "outputs": [
        {
          "output_type": "stream",
          "name": "stdout",
          "text": [
            "+--------------+--------------------+-------------------+\n",
            "|match_venue_id|    match_venue_name|highest_venue_score|\n",
            "+--------------+--------------------+-------------------+\n",
            "|            57|St.Andrew'sTrilli...|                 46|\n",
            "|          2867|      LibertyStadium|                 24|\n",
            "|          2734|     VitalityStadium|                 24|\n",
            "|         14923|BrentfordCommunit...|                 24|\n",
            "|            53|             Oakwell|                 24|\n",
            "|          5040|  CardiffCityStadium|                 23|\n",
            "|             4|          AshtonGate|                 23|\n",
            "|            40|       TheCityGround|                 23|\n",
            "|            32|           EwoodPark|                 23|\n",
            "|           101|              TheDen|                 23|\n",
            "|            61|          CarrowRoad|                 23|\n",
            "|           100|      KenilworthRoad|                 23|\n",
            "|            41|        Hillsborough|                 23|\n",
            "|            54|  JohnSmith'sStadium|                 23|\n",
            "|            45|    PrideParkStadium|                 23|\n",
            "|             1|       bet365Stadium|                 23|\n",
            "|            46|    RiversideStadium|                 23|\n",
            "|             3|           AdamsPark|                 23|\n",
            "|            68|KiyanPrinceFounda...|                 23|\n",
            "|           106|SelectCarLeasingS...|                 23|\n",
            "+--------------+--------------------+-------------------+\n",
            "only showing top 20 rows\n",
            "\n"
          ]
        }
      ]
    },
    {
      "cell_type": "code",
      "metadata": {
        "id": "DhPYJ-sGKTj6"
      },
      "source": [
        "# spark.sql(\"SELECT away_team_id, home_team_id, sum(cast((match_data.away_team_score + match_data.home_team_score) as BIGINT)) \\\n",
        "#             from match_data where away_team_id == home_team_id group by away_team_id, home_team_id\").show()"
      ],
      "execution_count": null,
      "outputs": []
    },
    {
      "cell_type": "markdown",
      "metadata": {
        "id": "PONi8gXX76Pf"
      },
      "source": [
        "Number of matches played both home and away"
      ]
    },
    {
      "cell_type": "code",
      "metadata": {
        "colab": {
          "base_uri": "https://localhost:8080/"
        },
        "id": "nXN1zjaivfym",
        "outputId": "02656fc4-2dfc-4f1d-bc19-ccb99d7a4cb9"
      },
      "source": [
        "spark.sql(\"SELECT team_name, COUNT(away_team_id) AS away_matches_played, \\\n",
        "          COUNT(home_team_id) AS home_matches_played \\\n",
        "          FROM match_data \\\n",
        "          GROUP BY team_name\").show()"
      ],
      "execution_count": 261,
      "outputs": [
        {
          "output_type": "stream",
          "name": "stdout",
          "text": [
            "+------------------+-------------------+-------------------+\n",
            "|         team_name|away_matches_played|home_matches_played|\n",
            "+------------------+-------------------+-------------------+\n",
            "|       NorwichCity|                 23|                 23|\n",
            "|SheffieldWednesday|                 23|                 23|\n",
            "|         LutonTown|                 23|                 23|\n",
            "|          Millwall|                 23|                 23|\n",
            "|         Brentford|                 24|                 24|\n",
            "| QueensParkRangers|                 23|                 23|\n",
            "|  HuddersfieldTown|                 23|                 23|\n",
            "|          Barnsley|                 24|                 24|\n",
            "|         StokeCity|                 23|                 23|\n",
            "|       Bournemouth|                 24|                 24|\n",
            "|       BristolCity|                 23|                 23|\n",
            "|   RotherhamUnited|                 23|                 23|\n",
            "|       DerbyCounty|                 23|                 23|\n",
            "|  NottinghamForest|                 23|                 23|\n",
            "|      CoventryCity|                 23|                 23|\n",
            "|   PrestonNorthEnd|                 23|                 23|\n",
            "|       SwanseaCity|                 25|                 25|\n",
            "|           Reading|                 23|                 23|\n",
            "|   BlackburnRovers|                 23|                 23|\n",
            "|  WycombeWanderers|                 23|                 23|\n",
            "+------------------+-------------------+-------------------+\n",
            "only showing top 20 rows\n",
            "\n"
          ]
        }
      ]
    },
    {
      "cell_type": "markdown",
      "metadata": {
        "id": "SuAjlh9TnKvR"
      },
      "source": [
        "Points from a match"
      ]
    },
    {
      "cell_type": "code",
      "metadata": {
        "colab": {
          "base_uri": "https://localhost:8080/"
        },
        "id": "QhlYL5cb6Xag",
        "outputId": "f7a32b40-3be3-4516-8128-f2c6595c61d1"
      },
      "source": [
        "spark.sql(\"SELECT team_name, away_team_score, \\\n",
        "          home_team_score, \\\n",
        "          CASE \\\n",
        "            WHEN away_team_score > home_team_score THEN '3 points away' \\\n",
        "            WHEN away_team_score == home_team_score THEN 'Draw' \\\n",
        "            ELSE '3 points home' \\\n",
        "          END AS Points \\\n",
        "          FROM match_data \\\n",
        "          GROUP BY team_name, away_team_score, home_team_score\").show()"
      ],
      "execution_count": 289,
      "outputs": [
        {
          "output_type": "stream",
          "name": "stdout",
          "text": [
            "+-----------------+---------------+---------------+-------------+\n",
            "|        team_name|away_team_score|home_team_score|       Points|\n",
            "+-----------------+---------------+---------------+-------------+\n",
            "|      Bournemouth|              3|              1|3 points away|\n",
            "|         Millwall|              2|              1|3 points away|\n",
            "|  RotherhamUnited|              1|              2|3 points home|\n",
            "|   BirminghamCity|              0|              3|3 points home|\n",
            "|   BirminghamCity|              2|              5|3 points home|\n",
            "|      CardiffCity|              2|              1|3 points away|\n",
            "|        StokeCity|              1|              4|3 points home|\n",
            "|      BristolCity|              2|              0|3 points away|\n",
            "|  PrestonNorthEnd|              1|              0|3 points away|\n",
            "| NottinghamForest|              2|              1|3 points away|\n",
            "|  RotherhamUnited|              2|              3|3 points home|\n",
            "|      CardiffCity|              0|              2|3 points home|\n",
            "|      NorwichCity|              2|              1|3 points away|\n",
            "|         Millwall|              0|              0|         Draw|\n",
            "|      DerbyCounty|              0|              0|         Draw|\n",
            "|QueensParkRangers|              2|              0|3 points away|\n",
            "|      Bournemouth|              1|              1|         Draw|\n",
            "|  RotherhamUnited|              1|              1|         Draw|\n",
            "|      SwanseaCity|              0|              1|3 points home|\n",
            "|      Bournemouth|              4|              1|3 points away|\n",
            "+-----------------+---------------+---------------+-------------+\n",
            "only showing top 20 rows\n",
            "\n"
          ]
        }
      ]
    },
    {
      "cell_type": "markdown",
      "metadata": {
        "id": "CeWqsWPA-4mA"
      },
      "source": [
        "Total Number of Goals Scored by Teams"
      ]
    },
    {
      "cell_type": "code",
      "metadata": {
        "colab": {
          "base_uri": "https://localhost:8080/"
        },
        "id": "o1D8crFX6pbB",
        "outputId": "38975f5b-b560-4389-800b-10ea6675826c"
      },
      "source": [
        "spark.sql(\"SELECT away_team_id, team_name, sum(away_team_score) as total_goal_scored\\\n",
        "          FROM match_data as a \\\n",
        "          where a.away_team_name = a.team_name \\\n",
        "          GROUP BY away_team_id, team_name \\\n",
        "          ORDER BY total_goal_scored DESC\").show()"
      ],
      "execution_count": 283,
      "outputs": [
        {
          "output_type": "stream",
          "name": "stdout",
          "text": [
            "+------------+-----------------+-----------------+\n",
            "|away_team_id|        team_name|total_goal_scored|\n",
            "+------------+-----------------+-----------------+\n",
            "|         t94|        Brentford|               40|\n",
            "|         t45|      NorwichCity|               36|\n",
            "|         t91|      Bournemouth|               34|\n",
            "|         t80|      SwanseaCity|               30|\n",
            "|         t97|      CardiffCity|               29|\n",
            "|         t37|         Barnsley|               29|\n",
            "|        t107|  PrestonNorthEnd|               28|\n",
            "|        t113|      BristolCity|               28|\n",
            "|          t5|  BlackburnRovers|               28|\n",
            "|         t52|QueensParkRangers|               25|\n",
            "|        t108|          Reading|               25|\n",
            "|         t25|    Middlesbrough|               25|\n",
            "|        t103|         Millwall|               23|\n",
            "|        t112| WycombeWanderers|               22|\n",
            "|         t38| HuddersfieldTown|               22|\n",
            "|        t110|        StokeCity|               21|\n",
            "|         t57|          Watford|               19|\n",
            "|         t41|   BirminghamCity|               19|\n",
            "|          t9|     CoventryCity|               19|\n",
            "|         t72|  RotherhamUnited|               18|\n",
            "+------------+-----------------+-----------------+\n",
            "only showing top 20 rows\n",
            "\n"
          ]
        }
      ]
    },
    {
      "cell_type": "markdown",
      "metadata": {
        "id": "rsSiDk9ake31"
      },
      "source": [
        "Save to file"
      ]
    },
    {
      "cell_type": "code",
      "metadata": {
        "id": "2GTGO0Wmiixr"
      },
      "source": [
        "match_data.write.csv(\"/content/drive/MyDrive/sky_bet_competition/processed_data.csv\", header=True)"
      ],
      "execution_count": 288,
      "outputs": []
    },
    {
      "cell_type": "markdown",
      "metadata": {
        "id": "wsSRw0clnplt"
      },
      "source": [
        "Why I decided to use Pyspark libraries:\n",
        "\n",
        "1.   I prefer using a distributed approach whenever I am doing data analysis.\n",
        "2.   Last but not the least, the compute and storage capabilities are more advantageous.\n",
        "\n",
        "\n",
        "\n"
      ]
    }
  ]
}